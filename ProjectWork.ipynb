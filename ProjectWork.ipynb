{
 "cells": [
  {
   "cell_type": "markdown",
   "metadata": {},
   "source": [
    "Emerging Technologies Project\n",
    "============================\n",
    "#### Sammar Tahir G00347526"
   ]
  },
  {
   "cell_type": "markdown",
   "metadata": {},
   "source": [
    "## Research\n",
    "\n",
    "\n",
    "For this project I have to learn how to build a neural database. The database we are using the [MNIST database][1]. To build the acutal neural network I am using a program called Keras which comes with [Anaconda][2], a powerful tool used with Python.\n",
    "\n",
    "\n",
    "[1]:http://yann.lecun.com/exdb/mnist/\n",
    "[2]:https://www.anaconda.com/why-anaconda/"
   ]
  },
  {
   "cell_type": "markdown",
   "metadata": {},
   "source": [
    "### Neural Networks\n",
    "Before leanring out neural networks we would need to know what a neuron is.\n",
    "\n",
    "Neuron\n",
    ">A specialized cell transmitting nerve impulses; a nerve cell.\n",
    "\n",
    "A neuron has an input( *x* ) and output( *y* ). The input normally has a weight to it and a bias( *b* ) with is usally 1. This image below will show you how a neuron looks.\n",
    "\n",
    "![Neuron](images/Neuron.gif \"Neuron\")\n",
    "\n",
    "Can also be written out as:"
   ]
  },
  {
   "cell_type": "code",
   "execution_count": 1,
   "metadata": {},
   "outputs": [],
   "source": [
    "def neruon(x):\n",
    "    w = 0.5\n",
    "    return w* x"
   ]
  },
  {
   "cell_type": "markdown",
   "metadata": {},
   "source": [
    "A neural network is made up of many of these small neurons, a image can be found futher below. For our network we'd need to find distinctive rgb numbers so we know which pixel is white( *rgb=0* ) or black ( *rgb=255* ). The network will be given the acutal number to help train it.\n",
    "\n",
    "![Neural Network](images/NeuralNetwork.png \"Neural Network\")\n",
    "\n"
   ]
  },
  {
   "cell_type": "markdown",
   "metadata": {},
   "source": [
    "### MNIST Database\n",
    "\n",
    "The MNIST Database was created by two people, Chris Burges and Cortes using written numbers. This database was made to help people make neural databases. The database is available on the [MNIST database][1] website. There are four files on the website and are .gz files, two are used the train the neural network with a small set of images and labels. \n",
    "\n",
    "![MNIST Database](images/MNISTDatabase.png \"MNIST Database\")\n",
    "\n",
    "Reading the database I used C Source and using a linux console. Every image is divided into a *20x20* pixel grid.\n",
    "\n",
    "[1]:http://yann.lecun.com/exdb/mnist/"
   ]
  },
  {
   "cell_type": "code",
   "execution_count": null,
   "metadata": {},
   "outputs": [],
   "source": [
    "#include <stdio.h>\n",
    "#include <stdint.h>\n",
    "\n",
    "int main(int argc, char *argv[]) {\n",
    "\n",
    "        FILE *f = fopen(\"t10k-images-idx3-ubyte\", \"rb\");\n",
    "        uint8_t b;\n",
    "\n",
    "        printf(\"No btyes in an int: %d\\n\", sizeof(b));\n",
    "\n",
    "        for(int i = 0; i < 16; i++){\n",
    "                fread(&b, 1, 1, f);\n",
    "                printf(\"%02x\", b);\n",
    "        }\n",
    "\n",
    "for(int k = 0; k < 3; k++){\n",
    "\t// Reading the image pixel by pixel using inner for loop\n",
    "        for(int i = 0; i < 20; i++){\n",
    "         for(int j = 0; j < 28; j ++){\n",
    "                 fread(&b, 1, 1, f);\n",
    "\t// Ask if dark value then \"0\" if not then print out \".\" \n",
    "                 printf(\"%s\", (b > 127) ? \"0\" : \".\");\n",
    "         }\n",
    "         printf(\"\\n\");\n",
    "        }\n",
    " printf(\"\\n\");\n",
    "        }\n",
    "\n",
    "        printf(\"\\n\");\n",
    "\n",
    "        return 0;\n",
    "}"
   ]
  },
  {
   "cell_type": "markdown",
   "metadata": {},
   "source": [
    "The code above shows how to read through the image line by line and outputting *0* if the pixel is darker than *127 RGB* or *.* if the pixel is brighter than *127 RGB*.\n",
    "\n",
    "![Number Output](images/MNISTNumbers.png \"Number Ouput\")"
   ]
  },
  {
   "cell_type": "code",
   "execution_count": null,
   "metadata": {},
   "outputs": [],
   "source": []
  }
 ],
 "metadata": {
  "kernelspec": {
   "display_name": "Python 3",
   "language": "python",
   "name": "python3"
  },
  "language_info": {
   "codemirror_mode": {
    "name": "ipython",
    "version": 3
   },
   "file_extension": ".py",
   "mimetype": "text/x-python",
   "name": "python",
   "nbconvert_exporter": "python",
   "pygments_lexer": "ipython3",
   "version": "3.7.3"
  }
 },
 "nbformat": 4,
 "nbformat_minor": 4
}
