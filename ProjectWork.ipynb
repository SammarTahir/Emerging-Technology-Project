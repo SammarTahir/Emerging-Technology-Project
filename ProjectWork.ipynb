{
 "cells": [
  {
   "cell_type": "markdown",
   "metadata": {},
   "source": [
    "Emerging Technologies Project\n",
    "============================\n",
    "#### Sammar Tahir G00347526"
   ]
  },
  {
   "cell_type": "markdown",
   "metadata": {},
   "source": [
    "## Research\n",
    "\n",
    "For this project I have to learn how to build a neural database. The database we are using the [MNIST database][1]. To build the acutal neural network I am using a program called Keras which comes with [Anaconda][2], a powerful tool used with Python.\n",
    "\n",
    "\n",
    "[1]:http://yann.lecun.com/exdb/mnist/\n",
    "[2]:https://www.anaconda.com/why-anaconda/"
   ]
  },
  {
   "cell_type": "markdown",
   "metadata": {},
   "source": [
    "### Neural Networks\n",
    "Before leanring out neural networks we would need to know what a neuron is.\n",
    "\n",
    "Neuron\n",
    ">A specialized cell transmitting nerve impulses; a nerve cell.\n",
    "\n",
    "A neuron has an input( *x* ) and output( *y* ). The input normally has a weight to it and a bias( *b* ) with is usally 1. This image below will show you how a neuron looks.\n",
    "\n",
    "![Neuron](images/Neuron.gif \"Neuron\")\n",
    "\n",
    "Can also be written out as:"
   ]
  },
  {
   "cell_type": "code",
   "execution_count": 1,
   "metadata": {},
   "outputs": [],
   "source": [
    "def neruon(x):\n",
    "    w = 0.5\n",
    "    return w* x"
   ]
  },
  {
   "cell_type": "markdown",
   "metadata": {},
   "source": [
    "A neural network is made up of many of these small neurons, a image can be found futher below. For our network we'd need to find distinctive rgb numbers so we know which pixel is white( *rgb=0* ) or black ( *rgb=255* ). The network will be given the acutal number to help train it.\n",
    "\n",
    "![Neural Network](images/NeuralNetwork.png \"Neural Network\")\n",
    "\n"
   ]
  },
  {
   "cell_type": "markdown",
   "metadata": {},
   "source": [
    "## MNIST Database\n",
    "\n",
    "The MNIST Database was created by two people, Chris Burges and Cortes using written numbers. This database was made to help people make neural databases. The database is available on the [MNIST database][1] website. There are four files on the website and are .gz files, two are used the train the neural network with a small set of images and labels. \n",
    "\n",
    "![MNIST Database](images/MNISTDatabase.png \"MNIST Database\")\n",
    "\n",
    "Reading the database I used C Source and using a linux console. Every image is divided into a *20x20* pixel grid.\n",
    "\n",
    "[1]:http://yann.lecun.com/exdb/mnist/"
   ]
  },
  {
   "cell_type": "markdown",
   "metadata": {},
   "source": [
    "### Reading the data"
   ]
  },
  {
   "cell_type": "code",
   "execution_count": 7,
   "metadata": {},
   "outputs": [
    {
     "ename": "SyntaxError",
     "evalue": "invalid syntax (<ipython-input-7-8bf2b7fc30bf>, line 4)",
     "output_type": "error",
     "traceback": [
      "\u001b[1;36m  File \u001b[1;32m\"<ipython-input-7-8bf2b7fc30bf>\"\u001b[1;36m, line \u001b[1;32m4\u001b[0m\n\u001b[1;33m    int main(int argc, char *argv[]) {\u001b[0m\n\u001b[1;37m           ^\u001b[0m\n\u001b[1;31mSyntaxError\u001b[0m\u001b[1;31m:\u001b[0m invalid syntax\n"
     ]
    }
   ],
   "source": [
    "#include <stdio.h>\n",
    "#include <stdint.h>\n",
    "\n",
    "int main(int argc, char *argv[]) {\n",
    "\n",
    "        FILE *f = fopen(\"t10k-images-idx3-ubyte\", \"rb\");\n",
    "        uint8_t b;\n",
    "\n",
    "        printf(\"No btyes in an int: %d\\n\", sizeof(b));\n",
    "\n",
    "        for(int i = 0; i < 16; i++){\n",
    "                fread(&b, 1, 1, f);\n",
    "                printf(\"%02x\", b);\n",
    "        }\n",
    "\n",
    "for(int k = 0; k < 3; k++){\n",
    "\t// Reading the image pixel by pixel using inner for loop\n",
    "        for(int i = 0; i < 20; i++){\n",
    "         for(int j = 0; j < 28; j ++){\n",
    "                 fread(&b, 1, 1, f);\n",
    "\t// Ask if dark value then \"0\" if not then print out \".\" \n",
    "                 printf(\"%s\", (b > 127) ? \"0\" : \".\");\n",
    "         }\n",
    "         printf(\"\\n\");\n",
    "        }\n",
    " printf(\"\\n\");\n",
    "        }\n",
    "\n",
    "        printf(\"\\n\");\n",
    "\n",
    "        return 0;\n",
    "}"
   ]
  },
  {
   "cell_type": "markdown",
   "metadata": {},
   "source": [
    "The code above shows how to read through the image line by line and outputting *0* if the pixel is darker than *127 RGB* or *blank* if the pixel is brighter than *127 RGB*.\n",
    "\n",
    "![Number Output](images/MNISTNumbers.png \"Number Ouput\")"
   ]
  },
  {
   "cell_type": "markdown",
   "metadata": {},
   "source": [
    "## Neural Network\n",
    "\n",
    "I will be using tensorflow with python to do this project. Tensorflow is a symbolic math library which can be used for machine learning."
   ]
  },
  {
   "cell_type": "code",
   "execution_count": 6,
   "metadata": {},
   "outputs": [],
   "source": [
    "# Just disables the warning, doesn't enable AVX/FMA\n",
    "import os\n",
    "os.environ['TF_CPP_MIN_LOG_LEVEL'] = '2'\n",
    "\n",
    "import keras as kr\n",
    "import gzip\n",
    "import numpy as np\n",
    "import matplotlib.pyplot as plt\n",
    "# For encoding categorical variables.\n",
    "import sklearn.preprocessing as pre"
   ]
  },
  {
   "cell_type": "markdown",
   "metadata": {},
   "source": [
    "### Reading in the files"
   ]
  },
  {
   "cell_type": "code",
   "execution_count": null,
   "metadata": {},
   "outputs": [],
   "source": [
    "with gzip.open('data/t10k-labels-idx1-ubyte.gz', 'rb') as f:\n",
    "    labels = f.read()\n",
    "\n",
    "with gzip.open('data/t10k-labels-idx1-ubyte.gz', 'rb') as f:\n",
    "    test_lbl = f.read()\n",
    "\n",
    "with gzip.open('data/t10k-images-idx3-ubyte.gz', 'rb') as f:\n",
    "    test_img = f.read()\n",
    "\n",
    "with gzip.open('data/train-images-idx3-ubyte.gz', 'rb') as f:\n",
    "    train_img = f.read()\n",
    "\n",
    "with gzip.open('data/train-labels-idx1-ubyte.gz', 'rb') as f:\n",
    "    train_lbl = f.read()\n",
    "\n",
    "int.from_bytes(labels[8:9], byteorder=\"big\")\n"
   ]
  },
  {
   "cell_type": "markdown",
   "metadata": {},
   "source": [
    "### Build the graph"
   ]
  },
  {
   "cell_type": "code",
   "execution_count": null,
   "metadata": {},
   "outputs": [],
   "source": [
    "model.compile(loss='categorical_crossentropy', optimizer='adam', metrics=['accuracy'])\n",
    "\n",
    "train_img = ~np.array(list(train_img[16:])).reshape(60000, 28, 28).astype(np.uint8) / 255.0\n",
    "train_lbl = np.array(list(train_lbl[8:])).astype(np.uint8)\n",
    "inputs = train_img.reshape(60000, 784)\n",
    "\n",
    "encoder = pre.LabelBinarizer()\n",
    "encoder.fit(train_lbl)\n",
    "outputs = encoder.transform(train_lbl)\n",
    "\n",
    "for i in range(10):\n",
    "    print(i, encoder.transform([i]))\n",
    "\n",
    "model.fit(inputs, outputs, epochs=2, batch_size=100)\n",
    "    \n",
    "test_img = ~np.array(list(test_img[16:])).reshape(10000, 784).astype(np.uint8) / 255.0\n",
    "test_lbl = np.array(list(test_lbl[ 8:])).astype(np.uint8)\n",
    "\n",
    "(encoder.inverse_transform(model.predict(test_img)) == test_lbl).sum()\n",
    "\n",
    "model.predict(test_img[5:6])\n",
    "\n",
    "plt.imshow(test_img[5].reshape(28, 28), cmap='gray')\n",
    "\n",
    "plt.show()"
   ]
  },
  {
   "cell_type": "code",
   "execution_count": null,
   "metadata": {},
   "outputs": [],
   "source": []
  }
 ],
 "metadata": {
  "kernelspec": {
   "display_name": "Python 3",
   "language": "python",
   "name": "python3"
  },
  "language_info": {
   "codemirror_mode": {
    "name": "ipython",
    "version": 3
   },
   "file_extension": ".py",
   "mimetype": "text/x-python",
   "name": "python",
   "nbconvert_exporter": "python",
   "pygments_lexer": "ipython3",
   "version": "3.7.3"
  }
 },
 "nbformat": 4,
 "nbformat_minor": 4
}
