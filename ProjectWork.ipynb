{
 "cells": [
  {
   "cell_type": "markdown",
   "metadata": {},
   "source": [
    "Emerging Technologies Project\n",
    "============================\n",
    "#### Sammar Tahir G00347526"
   ]
  },
  {
   "cell_type": "markdown",
   "metadata": {},
   "source": [
    "## Research\n",
    "\n",
    "For this project I have to learn how to build a neural database. The database we are using the [MNIST database][1]. To build the acutal neural network I am using a program called Keras which comes with [Anaconda][2], a powerful tool used with Python.\n",
    "\n",
    "\n",
    "[1]:http://yann.lecun.com/exdb/mnist/\n",
    "[2]:https://www.anaconda.com/why-anaconda/"
   ]
  },
  {
   "cell_type": "markdown",
   "metadata": {},
   "source": [
    "### Neural Networks\n",
    "Before leanring out neural networks we would need to know what a neuron is.\n",
    "\n",
    "Neuron\n",
    ">A specialized cell transmitting nerve impulses; a nerve cell.\n",
    "\n",
    "A neuron has an input( *x* ) and output( *y* ). The input normally has a weight to it and a bias( *b* ) with is usally 1. This image below will show you how a neuron looks.\n",
    "\n",
    "![Neuron](images/Neuron.gif \"Neuron\")\n",
    "\n",
    "Can also be written out as:"
   ]
  },
  {
   "cell_type": "code",
   "execution_count": 1,
   "metadata": {},
   "outputs": [],
   "source": [
    "def neruon(x):\n",
    "    w = 0.5\n",
    "    return w* x"
   ]
  },
  {
   "cell_type": "markdown",
   "metadata": {},
   "source": [
    "A neural network is made up of many of these small neurons, a image can be found futher below. For our network we'd need to find distinctive rgb numbers so we know which pixel is white( *rgb=0* ) or black ( *rgb=255* ). The network will be given the acutal number to help train it.\n",
    "\n",
    "![Neural Network](images/NeuralNetwork.png \"Neural Network\")\n",
    "\n"
   ]
  },
  {
   "cell_type": "markdown",
   "metadata": {},
   "source": [
    "## MNIST Database\n",
    "\n",
    "The MNIST Database was created by two people, Chris Burges and Cortes using written numbers. This database was made to help people make neural databases. The database is available on the [MNIST database][1] website. There are four files on the website and are .gz files, two are used the train the neural network with a small set of images and labels. \n",
    "\n",
    "![MNIST Database](images/MNISTDatabase.png \"MNIST Database\")\n",
    "\n",
    "Reading the database I used C Source and using a linux console. Every image is divided into a *20x20* pixel grid.\n",
    "\n",
    "[1]:http://yann.lecun.com/exdb/mnist/"
   ]
  },
  {
   "cell_type": "markdown",
   "metadata": {},
   "source": [
    "### Reading the data"
   ]
  },
  {
   "cell_type": "code",
   "execution_count": null,
   "metadata": {},
   "outputs": [],
   "source": [
    "#include <stdio.h>\n",
    "#include <stdint.h>\n",
    "\n",
    "int main(int argc, char *argv[]) {\n",
    "\n",
    "        FILE *f = fopen(\"t10k-images-idx3-ubyte\", \"rb\");\n",
    "        uint8_t b;\n",
    "\n",
    "        printf(\"No btyes in an int: %d\\n\", sizeof(b));\n",
    "\n",
    "        for(int i = 0; i < 16; i++){\n",
    "                fread(&b, 1, 1, f);\n",
    "                printf(\"%02x\", b);\n",
    "        }\n",
    "\n",
    "for(int k = 0; k < 3; k++){\n",
    "\t// Reading the image pixel by pixel using inner for loop\n",
    "        for(int i = 0; i < 20; i++){\n",
    "         for(int j = 0; j < 28; j ++){\n",
    "                 fread(&b, 1, 1, f);\n",
    "\t// Ask if dark value then \"0\" if not then print out \".\" \n",
    "                 printf(\"%s\", (b > 127) ? \"0\" : \".\");\n",
    "         }\n",
    "         printf(\"\\n\");\n",
    "        }\n",
    " printf(\"\\n\");\n",
    "        }\n",
    "\n",
    "        printf(\"\\n\");\n",
    "\n",
    "        return 0;\n",
    "}"
   ]
  },
  {
   "cell_type": "markdown",
   "metadata": {},
   "source": [
    "The code above shows how to read through the image line by line and outputting *0* if the pixel is darker than *127 RGB* or *blank* if the pixel is brighter than *127 RGB*.\n",
    "\n",
    "![Number Output](images/MNISTNumbers.png \"Number Ouput\")"
   ]
  },
  {
   "cell_type": "markdown",
   "metadata": {},
   "source": [
    "## Neural Network\n",
    "\n",
    "Using tensorflow with python to do this project. Tensorflow is a symbolic math library which can be used for machine learning.\n",
    "\n",
    "Keras is used to make the neural network\n",
    "<br>\n",
    "Numpy and pyplot is used to plot the data"
   ]
  },
  {
   "cell_type": "code",
   "execution_count": 6,
   "metadata": {},
   "outputs": [],
   "source": [
    "import keras as kr\n",
    "import numpy as np\n",
    "import matplotlib.pyplot as plt"
   ]
  },
  {
   "cell_type": "markdown",
   "metadata": {},
   "source": [
    "Using [gzip][1] to unzip the files. The files here are from the [MNIST website][2]. The data from these files will be used to make the nerual network\n",
    "\n",
    "[1]:http://yann.lecun.com/exdb/mnist/\n",
    "[2]:https://docs.python.org/3/library/gzip.html"
   ]
  },
  {
   "cell_type": "code",
   "execution_count": null,
   "metadata": {},
   "outputs": [],
   "source": [
    "import gzip\n",
    "\n",
    "with gzip.open('data/t10k-labels-idx1-ubyte.gz', 'rb') as f:\n",
    "    test_lbl = f.read()\n",
    "\n",
    "with gzip.open('data/t10k-images-idx3-ubyte.gz', 'rb') as f:\n",
    "    test_img = f.read()\n",
    "\n",
    "with gzip.open('data/train-images-idx3-ubyte.gz', 'rb') as f:\n",
    "    train_img = f.read()\n",
    "\n",
    "with gzip.open('data/train-labels-idx1-ubyte.gz', 'rb') as f:\n",
    "    train_lbl = f.read()"
   ]
  },
  {
   "cell_type": "markdown",
   "metadata": {},
   "source": [
    "Here the files are loaded and scaled. The images are scaled so it is easier to read them."
   ]
  },
  {
   "cell_type": "code",
   "execution_count": null,
   "metadata": {},
   "outputs": [],
   "source": [
    "# Laoding in the files\n",
    "(train_img, train_lbl), (test_img, test_lbl) = kr.datasets.mnist.load_data()\n",
    "\n",
    "\n",
    "# Scaling the data \n",
    "train_img = train_img.reshape(60000, 784)\n",
    "test_img = test_img.reshape(10000, 784)\n",
    "\n",
    "# Dividing the img by 225 for scaling\n",
    "train_img = train_img.astype('float32')\n",
    "test_img = test_img.astype('float32')\n",
    "train_img = train_img/255\n",
    "test_img = test_img/255 \n",
    "\n",
    "train_lbl = kr.utils.np_utils.to_categorical(train_lbl, 10)\n",
    "test_lbl = kr.utils.np_utils.to_categorical(test_lbl, 10)\n",
    "\n",
    "# This is a for loop for the images\n",
    "for i in range(50):\n",
    "    plt.subplot(1,50,i+1)\n",
    "    \n",
    "    # This shows the image\n",
    "    plt.imshow(train_img[i].reshape(28,28), cmap='gray', interpolation='nearest')\n",
    "    plt.xticks([])\n",
    "    plt.yticks([])\n",
    "    # plt.show()"
   ]
  },
  {
   "cell_type": "markdown",
   "metadata": {},
   "source": [
    "![Trained Images](images/train_img.png \"Trained Images\")\n",
    "\n",
    "Start a nerual network, building it by layers. More layers the more acurate the network will be. At the end of the layer there will be a dropout to stop overfilling."
   ]
  },
  {
   "cell_type": "code",
   "execution_count": null,
   "metadata": {},
   "outputs": [],
   "source": [
    "model.add(kr.layers.Dense(392, activation='relu', input_shape=(784,)))\n",
    "model.add(kr.layers.Dense(392, activation='relu'))\n",
    "\n",
    "\n",
    "model.add(kr.layers.Dropout(0.2))\n",
    "\n",
    "model.add(kr.layers.Dense(10, activation='softmax'))\n",
    "model.compile(loss='categorical_crossentropy', optimizer='adam', metrics=['accuracy'])\n",
    "\n",
    "history = model.fit(train_img, train_lbl, batch_size=50, epochs=50, verbose=1, validation_data=(test_img, test_lbl))\n",
    "\n",
    "score = model.evaluate(train_img, train_lbl, verbose=0)\n",
    "print('Test cross-entropy loss: %0.9f' % score[0])\n",
    "print('Test accuracy: %0.9f' % score[1])\n",
    "\n",
    "# This is plotting the loss\n",
    "plt.figure(1, figsize=(14,5))\n",
    "plt.subplot(1,2,1)\n",
    "plt.plot(history.history['loss'], label='train')\n",
    "plt.plot(history.history['val_loss'], label='valid')\n",
    "plt.xlabel('Epoch')\n",
    "plt.ylabel('Cross-Entropy Loss')\n",
    "plt.legend()\n",
    "plt.show()\n",
    "\n",
    "# This is plotting the accuracy\n",
    "plt.subplot(1,2,2)\n",
    "plt.plot(history.history['acc'], label='train')\n",
    "plt.plot(history.history['val_acc'], label='valid')\n",
    "plt.xlabel('Epoch')\n",
    "plt.ylabel('Accuracy')\n",
    "plt.legend()\n",
    "plt.show()\n"
   ]
  },
  {
   "cell_type": "markdown",
   "metadata": {},
   "source": [
    "The Adam optimization algorithm is an extension to stochastic gradient descent that has recently seen broader adoption for deep learning applications in computer vision and natural language processing. Epoches means the amount of times the test is carried out\n",
    "\n",
    "![Graph](images/plot.png \"Graph\")\n",
    "\n",
    "Save the nerual network and see if the network works. The nerual network is given a test image and sees if it is able to get the correct number"
   ]
  },
  {
   "cell_type": "code",
   "execution_count": null,
   "metadata": {},
   "outputs": [],
   "source": [
    "# This loads and saves the network\n",
    "model.save('nerualNetwork.h5')\n",
    "loadedModel = kr.models.load_model('nerualNetwork.h5')\n",
    "\n",
    "# ***For Notebook -> Add this for predicted number***\n",
    "plt.imshow(test_img[77].reshape(28, 28), cmap=\"gray\")\n",
    "plt.show()\n",
    "\n",
    "# This is given a test image and seen if it is able to load the correct number\n",
    "print(loadedModel.predict(test_img[77:78]), \"\\n Caluclated Number: \", np.argmax(loadedModel.predict(test_img[77:78])))"
   ]
  },
  {
   "cell_type": "markdown",
   "metadata": {},
   "source": [
    "Caluclated Number:  1\n",
    "    \n",
    "![Pedicted Number](images/test_img.png \"Pedicted Number\")"
   ]
  }
 ],
 "metadata": {
  "kernelspec": {
   "display_name": "Python 3",
   "language": "python",
   "name": "python3"
  },
  "language_info": {
   "codemirror_mode": {
    "name": "ipython",
    "version": 3
   },
   "file_extension": ".py",
   "mimetype": "text/x-python",
   "name": "python",
   "nbconvert_exporter": "python",
   "pygments_lexer": "ipython3",
   "version": "3.7.3"
  }
 },
 "nbformat": 4,
 "nbformat_minor": 4
}
