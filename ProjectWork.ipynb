{
 "cells": [
  {
   "cell_type": "markdown",
   "metadata": {},
   "source": [
    "# Emerging Technologies Project\n",
    "#### Sammar Tahir G00347526"
   ]
  },
  {
   "cell_type": "markdown",
   "metadata": {},
   "source": [
    "## Research\n",
    "\n",
    "\n",
    "For this project I have to learn how to build a neural database. The database we are using the [MNIST database][1]. To build the acutal neural network I am using a program called Keras which comes with [Anaconda][2], a powerful tool used with Python.\n",
    "\n",
    "\n",
    "[1]:http://yann.lecun.com/exdb/mnist/\n",
    "[2]:https://www.anaconda.com/why-anaconda/"
   ]
  },
  {
   "cell_type": "markdown",
   "metadata": {},
   "source": [
    "### Neural Networks\n",
    "Before leanring out neural networks we would need to know what a neuron is.\n",
    "\n",
    "Neuron\n",
    ">A specialized cell transmitting nerve impulses; a nerve cell.\n",
    "\n",
    "A neuron has an input( *x* ) and output( *y* ). The input normally has a weight to it and a bias( *b* ) with is usally 1. This image below will show you how a neuron looks.\n",
    "\n",
    "***Image***\n",
    "\n",
    "Can also be written out as:"
   ]
  },
  {
   "cell_type": "code",
   "execution_count": 10,
   "metadata": {},
   "outputs": [],
   "source": [
    "def neruon(x):\n",
    "    w = 0.5\n",
    "    return w* x"
   ]
  },
  {
   "cell_type": "markdown",
   "metadata": {},
   "source": [
    "A neural netowrk is made up of many of these small neurons as you can see from the image below\n"
   ]
  }
 ],
 "metadata": {
  "kernelspec": {
   "display_name": "Python 3",
   "language": "python",
   "name": "python3"
  },
  "language_info": {
   "codemirror_mode": {
    "name": "ipython",
    "version": 3
   },
   "file_extension": ".py",
   "mimetype": "text/x-python",
   "name": "python",
   "nbconvert_exporter": "python",
   "pygments_lexer": "ipython3",
   "version": "3.7.3"
  }
 },
 "nbformat": 4,
 "nbformat_minor": 4
}
